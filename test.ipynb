{
 "cells": [
  {
   "cell_type": "code",
   "execution_count": 2,
   "metadata": {},
   "outputs": [],
   "source": [
    "from scipy import stats\n",
    "import numpy as np\n",
    "from scipy.interpolate import splprep, splev\n",
    "# import matplotlib.pyplot as plt\n",
    "# import pandas as pd\n",
    "# import seaborn as sns\n",
    "\n",
    "# pd.options.display.max_columns = 100\n",
    "# pd.options.display.min_rows = None\n",
    "# pd.options.display.max_rows = 20\n",
    "# pd.options.display.max_colwidth = 1000000"
   ]
  },
  {
   "cell_type": "code",
   "execution_count": 4,
   "metadata": {},
   "outputs": [
    {
     "data": {
      "application/vnd.jupyter.widget-view+json": {
       "model_id": "2241353f11fa4f8ca89a8820091373c0",
       "version_major": 2,
       "version_minor": 0
      },
      "text/plain": [
       "DistributionWidget(value=None)"
      ]
     },
     "metadata": {},
     "output_type": "display_data"
    }
   ],
   "source": [
    "from etc_jupyterlab_distribution import DistributionWidget\n",
    "\n",
    "distWidget = DistributionWidget()\n",
    "\n",
    "distWidget"
   ]
  },
  {
   "cell_type": "code",
   "execution_count": 3,
   "metadata": {},
   "outputs": [
    {
     "data": {
      "text/plain": [
       "1.0"
      ]
     },
     "execution_count": 3,
     "metadata": {},
     "output_type": "execute_result"
    }
   ],
   "source": [
    "distWidget.value.cdf(310)"
   ]
  },
  {
   "cell_type": "code",
   "execution_count": 4,
   "metadata": {},
   "outputs": [
    {
     "data": {
      "text/plain": [
       "<AxesSubplot:ylabel='Count'>"
      ]
     },
     "execution_count": 4,
     "metadata": {},
     "output_type": "execute_result"
    },
    {
     "data": {
      "image/png": "[encoded data removed]",
      "text/plain": [
       "<Figure size 432x288 with 1 Axes>"
      ]
     },
     "metadata": {
      "needs_background": "light"
     },
     "output_type": "display_data"
    }
   ],
   "source": [
    "sns.histplot(data=distWidget.distribution)"
   ]
  },
  {
   "cell_type": "code",
   "execution_count": 27,
   "metadata": {
    "tags": []
   },
   "outputs": [
    {
     "data": {
      "text/plain": [
       "array([  0,   1,   2,   3,   4,   5,   6,   7,   8,   9,  10,  11,  12,\n",
       "        13,  14,  15,  16,  17,  18,  19,  20,  21,  22,  23,  24,  25,\n",
       "        26,  27,  28,  29,  30,  31,  32,  33,  34,  35,  36,  37,  38,\n",
       "        39,  40,  41,  42,  43,  44,  45,  46,  47,  48,  49,  50,  51,\n",
       "        52,  53,  54,  55,  56,  57,  58,  59,  60,  61,  62,  63,  64,\n",
       "        65,  66,  67,  68,  69,  70,  71,  72,  73,  74,  75,  76, 314,\n",
       "       315, 316, 317, 318, 319, 320, 321, 322, 323, 324, 325, 326, 327,\n",
       "       328, 329, 330, 331, 332, 333, 334, 335, 336, 337, 338, 339, 340,\n",
       "       341, 342, 343, 344, 345, 346, 347, 348, 349, 350, 351, 352, 353,\n",
       "       354, 355, 356, 357, 358, 359, 360, 361, 362, 363, 364, 365, 366,\n",
       "       367, 368, 369, 370, 371, 372, 373, 374, 375, 376, 377, 378, 379,\n",
       "       380, 381, 382])"
      ]
     },
     "execution_count": 27,
     "metadata": {},
     "output_type": "execute_result"
    }
   ],
   "source": [
    "xmin = -1\n",
    "xmax = 1\n",
    "\n",
    "entity_paths = [[{'x': 15, 'y': 283}, {'x': 15, 'y': 283}, {'x': 15, 'y': 282}, {'x': 16, 'y': 280}, {'x': 16, 'y': 280}, {'x': 17, 'y': 278}, {'x': 18, 'y': 278}, {'x': 18, 'y': 277}, {'x': 18, 'y': 275}, {'x': 18, 'y': 274}, {'x': 20, 'y': 273}, {'x': 21, 'y': 270}, {'x': 21, 'y': 269}, {'x': 23, 'y': 263}, {'x': 24, 'y': 262}, {'x': 24, 'y': 259}, {'x': 25, 'y': 258}, {'x': 25, 'y': 255}, {'x': 26, 'y': 254}, {'x': 26, 'y': 253}, {'x': 27, 'y': 252}, {'x': 27, 'y': 252}, {'x': 27, 'y': 251}, {'x': 28, 'y': 250}, {'x': 28, 'y': 249}, {'x': 29, 'y': 248}, {'x': 29, 'y': 247}, {'x': 30, 'y': 246}, {'x': 30, 'y': 245}, {'x': 32, 'y': 241}, {'x': 32, 'y': 241}, {'x': 33, 'y': 241}, {'x': 33, 'y': 240}, {'x': 34, 'y': 238}, {'x': 34, 'y': 238}, {'x': 35, 'y': 238}, {'x': 36, 'y': 235}, {'x': 36, 'y': 234}, {'x': 38, 'y': 230}, {'x': 39, 'y': 229}, {'x': 39, 'y': 229}, {'x': 41, 'y': 225}, {'x': 41, 'y': 224}, {'x': 41, 'y': 223}, {'x': 43, 'y': 220}, {'x': 45, 'y': 217}, {'x': 46, 'y': 216}, {'x': 46, 'y': 215}, {'x': 47, 'y': 212}, {'x': 48, 'y': 211}, {'x': 48, 'y': 210}, {'x': 50, 'y': 207}, {'x': 54, 'y': 203}, {'x': 55, 'y': 202}, {'x': 55, 'y': 201}, {'x': 56, 'y': 200}, {'x': 60, 'y': 195}, {'x': 61, 'y': 194}, {'x': 62, 'y': 193}, {'x': 62, 'y': 192}, {'x': 69, 'y': 190}, {'x': 69, 'y': 189}, {'x': 70, 'y': 189}, {'x': 71, 'y': 188}, {'x': 74, 'y': 187}, {'x': 75, 'y': 185}, {'x': 76, 'y': 185}, {'x': 77, 'y': 184}, {'x': 78, 'y': 184}, {'x': 79, 'y': 183}, {'x': 80, 'y': 183}, {'x': 80, 'y': 182}, {'x': 83, 'y': 180}, {'x': 89, 'y': 178}, {'x': 89, 'y': 178}, {'x': 90, 'y': 178}, {'x': 90, 'y': 177}, {'x': 91, 'y': 177}], [{'x': 329, 'y': 173}, {'x': 330, 'y': 173}, {'x': 331, 'y': 174}, {'x': 333, 'y': 175}, {'x': 333, 'y': 175}, {'x': 335, 'y': 176}, {'x': 335, 'y': 176}, {'x': 337, 'y': 177}, {'x': 337, 'y': 178}, {'x': 338, 'y': 178}, {'x': 338, 'y': 178}, {'x': 342, 'y': 180}, {'x': 342, 'y': 180}, {'x': 342, 'y': 181}, {'x': 343, 'y': 181}, {'x': 343, 'y': 181}, {'x': 345, 'y': 182}, {'x': 345, 'y': 183}, {'x': 347, 'y': 185}, {'x': 347, 'y': 185}, {'x': 348, 'y': 187}, {'x': 349, 'y': 187}, {'x': 349, 'y': 188}, {'x': 350, 'y': 191}, {'x': 352, 'y': 192}, {'x': 352, 'y': 192}, {'x': 354, 'y': 196}, {'x': 354, 'y': 197}, {'x': 358, 'y': 200}, {'x': 358, 'y': 201}, {'x': 359, 'y': 202}, {'x': 360, 'y': 204}, {'x': 361, 'y': 207}, {'x': 363, 'y': 208}, {'x': 363, 'y': 209}, {'x': 363, 'y': 210}, {'x': 365, 'y': 211}, {'x': 366, 'y': 212}, {'x': 366, 'y': 213}, {'x': 367, 'y': 214}, {'x': 367, 'y': 215}, {'x': 368, 'y': 215}, {'x': 369, 'y': 218}, {'x': 373, 'y': 221}, {'x': 375, 'y': 229}, {'x': 379, 'y': 232}, {'x': 380, 'y': 234}, {'x': 381, 'y': 236}, {'x': 382, 'y': 237}, {'x': 387, 'y': 245}, {'x': 387, 'y': 246}, {'x': 388, 'y': 247}, {'x': 390, 'y': 253}, {'x': 391, 'y': 254}, {'x': 391, 'y': 255}, {'x': 393, 'y': 259}, {'x': 395, 'y': 262}, {'x': 395, 'y': 263}, {'x': 396, 'y': 264}, {'x': 396, 'y': 265}, {'x': 396, 'y': 267}, {'x': 397, 'y': 267}, {'x': 397, 'y': 268}]]\n",
    "\n",
    "dist_map = {}\n",
    "\n",
    "for coords in entity_paths:\n",
    "        \n",
    "    coords_xmin = None\n",
    "    coords_xmax = None\n",
    "    \n",
    "    _xs = []\n",
    "    _ys = []\n",
    "    \n",
    "    for coord in coords:  \n",
    "\n",
    "        if coords_xmin == None or coord['x'] < coords_xmin:\n",
    "\n",
    "            coords_xmin = coord['x']\n",
    "\n",
    "        if coords_xmax == None or coord['x'] > coords_xmax:\n",
    "\n",
    "            coords_xmax = coord['x']\n",
    "            \n",
    "        _xs.append(coord['x'])\n",
    "        _ys.append(coord['y'])\n",
    "    \n",
    "    xs = np.array(range(coords_xmin, coords_xmax + 1))\n",
    "\n",
    "    ys = np.interp(xs, _xs, _ys)\n",
    "    \n",
    "    for index in range(0, len(xs)):\n",
    "        \n",
    "        if xs[index] not in dist_map or xs[index] > dist_map[xs[index]]:\n",
    "            \n",
    "            dist_map[xs[index]] = ys[index]\n",
    "\n",
    "xs = np.array(list(dist_map.keys()))\n",
    "ys = np.array(list(dist_map.values()))\n",
    "\n",
    "coord_xmin = xs.min()\n",
    "coord_ymax = ys.max()\n",
    "\n",
    "xs = xs - coord_xmin;\n",
    "ys = coord_ymax - ys;\n",
    "\n",
    "xs"
   ]
  },
  {
   "cell_type": "code",
   "execution_count": 26,
   "metadata": {},
   "outputs": [
    {
     "data": {
      "text/plain": [
       "array([  0.        ,   2.        ,   4.        ,   8.        ,\n",
       "         8.5       ,   9.        ,  13.        ,  16.        ,\n",
       "        19.        ,  23.        ,  27.        ,  29.        ,\n",
       "        31.        ,  33.        ,  35.        ,  37.        ,\n",
       "        39.        ,  41.        ,  42.        ,  44.        ,\n",
       "        44.        ,  48.        ,  50.        ,  52.        ,\n",
       "        53.        ,  55.        ,  59.        ,  60.5       ,\n",
       "        62.        ,  63.5       ,  65.        ,  67.        ,\n",
       "        70.        ,  72.        ,  73.5       ,  75.        ,\n",
       "        76.        ,  77.        ,  78.        ,  79.        ,\n",
       "        81.        ,  82.        ,  83.25      ,  84.5       ,\n",
       "        85.75      ,  87.        ,  88.        ,  90.        ,\n",
       "        90.28571429,  90.57142857,  90.85714286,  91.14285714,\n",
       "        91.42857143,  91.71428571,  93.        ,  93.        ,\n",
       "        94.        ,  94.33333333,  94.66666667,  95.        ,\n",
       "        97.        ,  97.        ,  98.        ,  98.        ,\n",
       "        99.        , 100.        , 100.66666667, 101.33333333,\n",
       "       102.        , 102.33333333, 102.66666667, 103.        ,\n",
       "       103.33333333, 103.66666667, 104.        , 105.        ,\n",
       "       105.        , 109.        , 109.        , 108.        ,\n",
       "       107.5       , 107.        , 106.5       , 106.        ,\n",
       "       105.5       , 104.        , 104.        , 103.5       ,\n",
       "       103.        , 102.5       , 101.        , 101.        ,\n",
       "       100.5       ,  99.        ,  98.        ,  97.        ,\n",
       "        95.        ,  94.        ,  91.        ,  90.5       ,\n",
       "        90.        ,  88.        ,  85.        ,  84.25      ,\n",
       "        83.5       ,  82.75      ,  81.        ,  80.        ,\n",
       "        78.        ,  75.        ,  74.5       ,  72.        ,\n",
       "        71.5       ,  71.        ,  69.        ,  67.        ,\n",
       "        67.        ,  64.        ,  63.25      ,  62.5       ,\n",
       "        61.75      ,  61.        ,  57.        ,  53.        ,\n",
       "        52.25      ,  51.5       ,  50.75      ,  50.        ,\n",
       "        48.        ,  46.        ,  45.        ,  43.4       ,\n",
       "        41.8       ,  40.2       ,  38.6       ,  36.        ,\n",
       "        35.        ,  32.        ,  29.        ,  27.        ,\n",
       "        25.        ,  23.        ,  21.5       ,  19.        ,\n",
       "        15.        ,  14.        ])"
      ]
     },
     "execution_count": 26,
     "metadata": {},
     "output_type": "execute_result"
    }
   ],
   "source": [
    "ys"
   ]
  },
  {
   "cell_type": "code",
   "execution_count": null,
   "metadata": {},
   "outputs": [],
   "source": []
  },
  {
   "cell_type": "code",
   "execution_count": null,
   "metadata": {},
   "outputs": [],
   "source": []
  },
  {
   "cell_type": "code",
   "execution_count": null,
   "metadata": {
    "tags": []
   },
   "outputs": [],
   "source": []
  }
 ],
 "metadata": {
  "kernelspec": {
   "display_name": "Python 3 (ipykernel)",
   "language": "python",
   "name": "python3"
  },
  "language_info": {
   "codemirror_mode": {
    "name": "ipython",
    "version": 3
   },
   "file_extension": ".py",
   "mimetype": "text/x-python",
   "name": "python",
   "nbconvert_exporter": "python",
   "pygments_lexer": "ipython3",
   "version": "3.9.7"
  }
 },
 "nbformat": 4,
 "nbformat_minor": 4
}
