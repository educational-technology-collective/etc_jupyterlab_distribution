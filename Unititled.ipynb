{
 "cells": [
  {
   "cell_type": "code",
   "execution_count": 1,
   "metadata": {},
   "outputs": [],
   "source": [
    "from scipy import stats\n",
    "import numpy as np\n",
    "import numpy as np\n",
    "from scipy.interpolate import splprep, splev\n",
    "import matplotlib.pyplot as plt"
   ]
  },
  {
   "cell_type": "code",
   "execution_count": 5,
   "metadata": {},
   "outputs": [
    {
     "data": {
      "text/plain": [
       "0.9665571257041679"
      ]
     },
     "execution_count": 5,
     "metadata": {},
     "output_type": "execute_result"
    }
   ],
   "source": [
    "data = stats.norm.rvs(size=1000, loc=10, scale=1)\n",
    "\n",
    "hist = np.histogram(data, bins=5)\n",
    "\n",
    "hist_dist = stats.rv_histogram(hist)\n",
    "\n",
    "hist_dist.cdf(12)"
   ]
  },
  {
   "cell_type": "code",
   "execution_count": 73,
   "metadata": {},
   "outputs": [
    {
     "data": {
      "application/vnd.jupyter.widget-view+json": {
       "model_id": "4f8f437bb49c4a3cb6c558f5a2b9c420",
       "version_major": 2,
       "version_minor": 0
      },
      "text/plain": [
       "DistributionWidget(value=None)"
      ]
     },
     "metadata": {},
     "output_type": "display_data"
    }
   ],
   "source": [
    "from etc_jupyterlab_distribution import DistributionWidget\n",
    "\n",
    "distWidget = DistributionWidget()\n",
    "\n",
    "distWidget"
   ]
  },
  {
   "cell_type": "code",
   "execution_count": 55,
   "metadata": {},
   "outputs": [
    {
     "data": {
      "text/plain": [
       "0.6987045918040704"
      ]
     },
     "execution_count": 55,
     "metadata": {},
     "output_type": "execute_result"
    }
   ],
   "source": [
    "distWidget.value.cdf(400)"
   ]
  },
  {
   "cell_type": "code",
   "execution_count": 83,
   "metadata": {},
   "outputs": [
    {
     "data": {
      "text/plain": [
       "(array([169392, 238247, 238417, 219920, 162791]),\n",
       " array([ 49. , 127.2, 205.4, 283.6, 361.8, 440. ]))"
      ]
     },
     "execution_count": 83,
     "metadata": {},
     "output_type": "execute_result"
    }
   ],
   "source": [
    "X = np.array([int(key) for key in distWidget.coord.keys()])\n",
    "\n",
    "Y = np.array([int(key) for key in distWidget.coord.values()])\n",
    "\n",
    "pts = np.vstack((X, Y))\n",
    "\n",
    "tck, u = splprep(pts, s=0.0)\n",
    "\n",
    "u_new = np.linspace(u.min(), u.max(), 10000)\n",
    "\n",
    "x, y = splev(u_new, tck)\n",
    "\n",
    "data = np.repeat(x, np.ceil(y).astype(int))\n",
    "\n",
    "hist = np.histogram(data, bins=5)\n",
    "\n",
    "# hist_dist = stats.rv_histogram(hist)\n",
    "\n",
    "# fig, ax = plt.subplots(1, 1)\n",
    "\n",
    "# test = plt.plot(x, y, 'b--')\n",
    "\n",
    "# ax.set_ylim(0,y.max() + 100)\n",
    "\n",
    "# plt.show()\n",
    "\n",
    "hist"
   ]
  },
  {
   "cell_type": "code",
   "execution_count": 39,
   "metadata": {},
   "outputs": [
    {
     "data": {
      "text/plain": [
       "[<matplotlib.lines.Line2D at 0x7f1d977e4eb0>]"
      ]
     },
     "execution_count": 39,
     "metadata": {},
     "output_type": "execute_result"
    }
   ],
   "source": [
    "hist_dist.cdf(200)"
   ]
  },
  {
   "cell_type": "code",
   "execution_count": 62,
   "metadata": {},
   "outputs": [
    {
     "data": {
      "text/plain": [
       "array([1.75, 1.75, 2.5 , 3.75, 1.  , 4.75, 4.5 , 4.25, 4.25, 2.75])"
      ]
     },
     "execution_count": 62,
     "metadata": {},
     "output_type": "execute_result"
    }
   ],
   "source": [
    "from scipy.interpolate import interp1d\n",
    "fst = np.array([4, 4, 1, 3, 1, 4, 3, 2, 5, 2])\n",
    "snd = np.array([1, 1, 3, 4, 1, 5, 5, 5, 4, 3])\n",
    "linfit = interp1d([1,5], np.vstack([fst, snd]), axis=0)\n",
    "linfit(4)"
   ]
  },
  {
   "cell_type": "code",
   "execution_count": 81,
   "metadata": {},
   "outputs": [
    {
     "data": {
      "text/plain": [
       "array([1., 1., 3., 3., 3., 3., 3., 3., 3., 3., 3., 3., 3., 3., 3., 3., 3.,\n",
       "       3., 3., 3., 3., 3., 3., 3., 3., 3., 3., 3., 3., 3., 3., 3., 3., 3.,\n",
       "       3., 3.])"
      ]
     },
     "execution_count": 81,
     "metadata": {},
     "output_type": "execute_result"
    }
   ],
   "source": [
    "Y = np.array([1, 1, 3, 4, 1, 5, 5, 5, 4, 3])\n",
    "X = np.array([1, 5, 10, 30, 32, 36, 3, 2, 5, 2])\n",
    "np.interp(range(X.min(), X.max()+1), X, Y)"
   ]
  },
  {
   "cell_type": "code",
   "execution_count": null,
   "metadata": {},
   "outputs": [],
   "source": []
  }
 ],
 "metadata": {
  "kernelspec": {
   "display_name": "Python 3 (ipykernel)",
   "language": "python",
   "name": "python3"
  },
  "language_info": {
   "codemirror_mode": {
    "name": "ipython",
    "version": 3
   },
   "file_extension": ".py",
   "mimetype": "text/x-python",
   "name": "python",
   "nbconvert_exporter": "python",
   "pygments_lexer": "ipython3",
   "version": "3.9.7"
  }
 },
 "nbformat": 4,
 "nbformat_minor": 4
}
